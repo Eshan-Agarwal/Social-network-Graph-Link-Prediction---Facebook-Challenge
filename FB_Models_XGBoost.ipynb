{
 "cells": [
  {
   "cell_type": "markdown",
   "metadata": {
    "colab_type": "text",
    "id": "naWvqMEMHglO"
   },
   "source": [
    "<p style=\"font-size:32px;text-align:center\"> <b>Social network Graph Link Prediction - Facebook Challenge</b> </p>\n",
    "\n",
    "* Apply XGBoost on all set of features"
   ]
  },
  {
   "cell_type": "code",
   "execution_count": 1,
   "metadata": {
    "colab": {},
    "colab_type": "code",
    "id": "9wb9N5RzHglP"
   },
   "outputs": [],
   "source": [
    "#Importing Libraries\n",
    "# please do go through this python notebook: \n",
    "import warnings\n",
    "warnings.filterwarnings(\"ignore\")\n",
    "\n",
    "import csv\n",
    "import pandas as pd#pandas to create small dataframes \n",
    "import datetime #Convert to unix time\n",
    "import time #Convert to unix time\n",
    "# if numpy is not installed already : pip3 install numpy\n",
    "import numpy as np#Do aritmetic operations on arrays\n",
    "# matplotlib: used to plot graphs\n",
    "import matplotlib\n",
    "import matplotlib.pylab as plt\n",
    "import seaborn as sns#Plots\n",
    "from matplotlib import rcParams#Size of plots  \n",
    "from sklearn.cluster import MiniBatchKMeans, KMeans#Clustering\n",
    "import math\n",
    "import pickle\n",
    "import os\n",
    "# to install xgboost: pip3 install xgboost\n",
    "import xgboost as xgb\n",
    "\n",
    "import warnings\n",
    "import networkx as nx\n",
    "import pdb\n",
    "import pickle\n",
    "from pandas import HDFStore,DataFrame\n",
    "from pandas import read_hdf\n",
    "from scipy.sparse.linalg import svds, eigs\n",
    "import gc\n",
    "from tqdm import tqdm\n",
    "from sklearn.ensemble import RandomForestClassifier\n",
    "from sklearn.metrics import f1_score"
   ]
  },
  {
   "cell_type": "code",
   "execution_count": 2,
   "metadata": {
    "colab": {},
    "colab_type": "code",
    "id": "XC4OJFKkHglU"
   },
   "outputs": [],
   "source": [
    "#reading\n",
    "from pandas import read_hdf\n",
    "df_final_train = read_hdf('data/fea_sample/storage_sample_stage5.h5', 'train_df',mode='r')\n",
    "df_final_test = read_hdf('data/fea_sample/storage_sample_stage5.h5', 'test_df',mode='r')"
   ]
  },
  {
   "cell_type": "code",
   "execution_count": 3,
   "metadata": {
    "colab": {},
    "colab_type": "code",
    "id": "5Gm-BHRkHglW",
    "outputId": "d2c2294c-113e-4fdb-d3e5-dc167dcf5fbc"
   },
   "outputs": [
    {
     "data": {
      "text/plain": [
       "Index(['source_node', 'destination_node', 'indicator_link',\n",
       "       'jaccard_followers', 'jaccard_followees', 'cosine_followers',\n",
       "       'cosine_followees', 'num_followers_s', 'num_followees_s',\n",
       "       'num_followees_d', 'inter_followers', 'inter_followees', 'adar_index',\n",
       "       'follows_back', 'same_comp', 'shortest_path', 'weight_in', 'weight_out',\n",
       "       'weight_f1', 'weight_f2', 'weight_f3', 'weight_f4', 'page_rank_s',\n",
       "       'page_rank_d', 'katz_s', 'katz_d', 'hubs_s', 'hubs_d', 'authorities_s',\n",
       "       'authorities_d', 'svd_u_s_1', 'svd_u_s_2', 'svd_u_s_3', 'svd_u_s_4',\n",
       "       'svd_u_s_5', 'svd_u_s_6', 'svd_u_d_1', 'svd_u_d_2', 'svd_u_d_3',\n",
       "       'svd_u_d_4', 'svd_u_d_5', 'svd_u_d_6', 'svd_v_s_1', 'svd_v_s_2',\n",
       "       'svd_v_s_3', 'svd_v_s_4', 'svd_v_s_5', 'svd_v_s_6', 'svd_v_d_1',\n",
       "       'svd_v_d_2', 'svd_v_d_3', 'svd_v_d_4', 'svd_v_d_5', 'svd_v_d_6',\n",
       "       'preferential_followers', 'preferential_followee', 'svd_dot_u',\n",
       "       'svd_dot_v'],\n",
       "      dtype='object')"
      ]
     },
     "execution_count": 3,
     "metadata": {},
     "output_type": "execute_result"
    }
   ],
   "source": [
    "df_final_train.columns"
   ]
  },
  {
   "cell_type": "code",
   "execution_count": 4,
   "metadata": {
    "colab": {},
    "colab_type": "code",
    "id": "XRW7VZ4AHglc"
   },
   "outputs": [],
   "source": [
    "y_train = df_final_train.indicator_link\n",
    "y_test = df_final_test.indicator_link"
   ]
  },
  {
   "cell_type": "code",
   "execution_count": 5,
   "metadata": {
    "colab": {},
    "colab_type": "code",
    "id": "4lj9M_qtHglf"
   },
   "outputs": [],
   "source": [
    "df_final_train.drop(['source_node', 'destination_node','indicator_link'],axis=1,inplace=True)\n",
    "df_final_test.drop(['source_node', 'destination_node','indicator_link'],axis=1,inplace=True)"
   ]
  },
  {
   "cell_type": "code",
   "execution_count": 6,
   "metadata": {
    "colab": {},
    "colab_type": "code",
    "id": "MrG1Lfl3Hglq",
    "outputId": "7b6e3c97-8d66-455d-cd79-213f824719cc",
    "scrolled": true
   },
   "outputs": [
    {
     "name": "stdout",
     "output_type": "stream",
     "text": [
      "Fitting 10 folds for each of 10 candidates, totalling 100 fits\n"
     ]
    },
    {
     "name": "stderr",
     "output_type": "stream",
     "text": [
      "[Parallel(n_jobs=-1)]: Using backend LokyBackend with 12 concurrent workers.\n",
      "[Parallel(n_jobs=-1)]: Done   1 tasks      | elapsed:  4.9min\n",
      "[Parallel(n_jobs=-1)]: Done   2 tasks      | elapsed:  4.9min\n",
      "[Parallel(n_jobs=-1)]: Done   3 tasks      | elapsed:  4.9min\n",
      "[Parallel(n_jobs=-1)]: Done   4 tasks      | elapsed:  5.0min\n",
      "[Parallel(n_jobs=-1)]: Done   5 tasks      | elapsed:  5.1min\n",
      "[Parallel(n_jobs=-1)]: Done   6 tasks      | elapsed:  5.2min\n",
      "[Parallel(n_jobs=-1)]: Done   7 tasks      | elapsed:  5.3min\n",
      "[Parallel(n_jobs=-1)]: Done   8 tasks      | elapsed:  5.4min\n",
      "[Parallel(n_jobs=-1)]: Done   9 tasks      | elapsed:  5.4min\n",
      "[Parallel(n_jobs=-1)]: Done  10 tasks      | elapsed:  5.5min\n",
      "[Parallel(n_jobs=-1)]: Done  11 tasks      | elapsed:  5.5min\n",
      "[Parallel(n_jobs=-1)]: Done  12 tasks      | elapsed:  5.7min\n",
      "[Parallel(n_jobs=-1)]: Done  13 tasks      | elapsed:  9.6min\n",
      "[Parallel(n_jobs=-1)]: Done  14 tasks      | elapsed:  9.6min\n",
      "[Parallel(n_jobs=-1)]: Done  15 tasks      | elapsed:  9.6min\n",
      "[Parallel(n_jobs=-1)]: Done  16 tasks      | elapsed:  9.7min\n",
      "[Parallel(n_jobs=-1)]: Done  17 tasks      | elapsed: 10.3min\n",
      "[Parallel(n_jobs=-1)]: Done  18 tasks      | elapsed: 10.4min\n",
      "[Parallel(n_jobs=-1)]: Done  19 tasks      | elapsed: 10.5min\n",
      "[Parallel(n_jobs=-1)]: Done  20 tasks      | elapsed: 10.6min\n",
      "[Parallel(n_jobs=-1)]: Done  21 tasks      | elapsed: 10.9min\n",
      "[Parallel(n_jobs=-1)]: Done  22 tasks      | elapsed: 10.9min\n",
      "[Parallel(n_jobs=-1)]: Done  23 tasks      | elapsed: 10.9min\n",
      "[Parallel(n_jobs=-1)]: Done  24 tasks      | elapsed: 11.0min\n",
      "[Parallel(n_jobs=-1)]: Done  25 tasks      | elapsed: 14.0min\n",
      "[Parallel(n_jobs=-1)]: Done  26 tasks      | elapsed: 14.0min\n",
      "[Parallel(n_jobs=-1)]: Done  27 tasks      | elapsed: 14.0min\n",
      "[Parallel(n_jobs=-1)]: Done  28 tasks      | elapsed: 14.1min\n",
      "[Parallel(n_jobs=-1)]: Done  29 tasks      | elapsed: 15.2min\n",
      "[Parallel(n_jobs=-1)]: Done  30 tasks      | elapsed: 15.2min\n",
      "[Parallel(n_jobs=-1)]: Done  31 tasks      | elapsed: 16.8min\n",
      "[Parallel(n_jobs=-1)]: Done  32 tasks      | elapsed: 16.8min\n",
      "[Parallel(n_jobs=-1)]: Done  33 tasks      | elapsed: 17.4min\n",
      "[Parallel(n_jobs=-1)]: Done  34 tasks      | elapsed: 17.5min\n",
      "[Parallel(n_jobs=-1)]: Done  35 tasks      | elapsed: 17.5min\n",
      "[Parallel(n_jobs=-1)]: Done  36 tasks      | elapsed: 17.6min\n",
      "[Parallel(n_jobs=-1)]: Done  37 tasks      | elapsed: 19.4min\n",
      "[Parallel(n_jobs=-1)]: Done  38 tasks      | elapsed: 19.4min\n",
      "[Parallel(n_jobs=-1)]: Done  39 tasks      | elapsed: 19.4min\n",
      "[Parallel(n_jobs=-1)]: Done  40 tasks      | elapsed: 19.5min\n",
      "[Parallel(n_jobs=-1)]: Done  41 tasks      | elapsed: 20.0min\n",
      "[Parallel(n_jobs=-1)]: Done  42 tasks      | elapsed: 20.2min\n",
      "[Parallel(n_jobs=-1)]: Done  43 tasks      | elapsed: 21.9min\n",
      "[Parallel(n_jobs=-1)]: Done  44 tasks      | elapsed: 21.9min\n",
      "[Parallel(n_jobs=-1)]: Done  45 tasks      | elapsed: 23.0min\n",
      "[Parallel(n_jobs=-1)]: Done  46 tasks      | elapsed: 23.0min\n",
      "[Parallel(n_jobs=-1)]: Done  47 tasks      | elapsed: 23.0min\n",
      "[Parallel(n_jobs=-1)]: Done  48 tasks      | elapsed: 23.4min\n",
      "[Parallel(n_jobs=-1)]: Done  49 tasks      | elapsed: 24.6min\n",
      "[Parallel(n_jobs=-1)]: Done  50 tasks      | elapsed: 24.6min\n",
      "[Parallel(n_jobs=-1)]: Done  51 tasks      | elapsed: 25.0min\n",
      "[Parallel(n_jobs=-1)]: Done  52 tasks      | elapsed: 25.1min\n",
      "[Parallel(n_jobs=-1)]: Done  53 tasks      | elapsed: 26.3min\n",
      "[Parallel(n_jobs=-1)]: Done  54 tasks      | elapsed: 26.4min\n",
      "[Parallel(n_jobs=-1)]: Done  55 tasks      | elapsed: 28.0min\n",
      "[Parallel(n_jobs=-1)]: Done  56 tasks      | elapsed: 28.0min\n",
      "[Parallel(n_jobs=-1)]: Done  57 tasks      | elapsed: 28.5min\n",
      "[Parallel(n_jobs=-1)]: Done  58 tasks      | elapsed: 28.6min\n",
      "[Parallel(n_jobs=-1)]: Done  59 tasks      | elapsed: 29.0min\n",
      "[Parallel(n_jobs=-1)]: Done  60 tasks      | elapsed: 29.1min\n",
      "[Parallel(n_jobs=-1)]: Done  61 tasks      | elapsed: 29.1min\n",
      "[Parallel(n_jobs=-1)]: Done  62 tasks      | elapsed: 29.1min\n",
      "[Parallel(n_jobs=-1)]: Done  63 tasks      | elapsed: 29.2min\n",
      "[Parallel(n_jobs=-1)]: Done  64 tasks      | elapsed: 29.3min\n",
      "[Parallel(n_jobs=-1)]: Done  65 tasks      | elapsed: 30.8min\n",
      "[Parallel(n_jobs=-1)]: Done  66 tasks      | elapsed: 30.9min\n",
      "[Parallel(n_jobs=-1)]: Done  67 tasks      | elapsed: 32.5min\n",
      "[Parallel(n_jobs=-1)]: Done  68 tasks      | elapsed: 32.5min\n",
      "[Parallel(n_jobs=-1)]: Done  69 tasks      | elapsed: 32.6min\n",
      "[Parallel(n_jobs=-1)]: Done  70 tasks      | elapsed: 32.7min\n",
      "[Parallel(n_jobs=-1)]: Done  71 tasks      | elapsed: 33.1min\n",
      "[Parallel(n_jobs=-1)]: Done  72 tasks      | elapsed: 33.3min\n",
      "[Parallel(n_jobs=-1)]: Done  73 tasks      | elapsed: 33.7min\n",
      "[Parallel(n_jobs=-1)]: Done  74 tasks      | elapsed: 33.7min\n",
      "[Parallel(n_jobs=-1)]: Done  75 tasks      | elapsed: 33.7min\n",
      "[Parallel(n_jobs=-1)]: Done  76 tasks      | elapsed: 33.9min\n",
      "[Parallel(n_jobs=-1)]: Done  77 tasks      | elapsed: 35.4min\n",
      "[Parallel(n_jobs=-1)]: Done  83 out of 100 | elapsed: 37.9min remaining:  7.8min\n",
      "[Parallel(n_jobs=-1)]: Done  89 out of 100 | elapsed: 41.0min remaining:  5.1min\n",
      "[Parallel(n_jobs=-1)]: Done  95 out of 100 | elapsed: 42.5min remaining:  2.2min\n",
      "[Parallel(n_jobs=-1)]: Done 100 out of 100 | elapsed: 43.4min finished\n"
     ]
    },
    {
     "data": {
      "text/plain": [
       "({'max_depth': 14,\n",
       "  'min_samples_leaf': 32,\n",
       "  'min_samples_split': 162,\n",
       "  'n_estimators': 111},\n",
       " 0.9752599186184753)"
      ]
     },
     "execution_count": 6,
     "metadata": {},
     "output_type": "execute_result"
    }
   ],
   "source": [
    "from sklearn.metrics import f1_score\n",
    "from sklearn.ensemble import RandomForestClassifier\n",
    "from sklearn.metrics import f1_score\n",
    "from sklearn.model_selection import RandomizedSearchCV\n",
    "from scipy.stats import randint as sp_randint\n",
    "from scipy.stats import uniform\n",
    "\n",
    "param_dist = {\"n_estimators\":sp_randint(105,125),\n",
    "              \"max_depth\": sp_randint(10,15),\n",
    "              \"min_samples_split\": sp_randint(110,190),\n",
    "              \"min_samples_leaf\": sp_randint(25,65)}\n",
    "\n",
    "estimator1 = xgb.XGBRFClassifier(objective= 'binary:logistic',\n",
    "eval_metric= 'auc',scale_pos_weight = 1,random_state=123)\n",
    "\n",
    "Rsearch1= RandomizedSearchCV(estimator1,param_distributions=param_dist,scoring='f1',n_jobs=-1,iid=False, cv=10,verbose=20,random_state=123)\n",
    "\n",
    "Rsearch1.fit(df_final_train,y_train)\n",
    "\n",
    "Rsearch1.best_params_, Rsearch1.best_score_\n",
    "\n",
    "\n",
    "\n"
   ]
  },
  {
   "cell_type": "code",
   "execution_count": 10,
   "metadata": {},
   "outputs": [
    {
     "name": "stdout",
     "output_type": "stream",
     "text": [
      "mean test scores [0.97495516 0.97490435 0.97391152 0.97524967 0.97513524 0.97525992\n",
      " 0.97460459 0.97463378 0.97487324 0.97500502]\n",
      "mean train scores [0.98012707 0.98011011 0.97665432 0.98412549 0.98207422 0.98412161\n",
      " 0.97826202 0.97826412 0.98013033 0.98012817]\n"
     ]
    }
   ],
   "source": [
    "print('mean test scores',Rsearch1.cv_results_['mean_test_score'])\n",
    "print('mean train scores',Rsearch1.cv_results_['mean_train_score'])"
   ]
  },
  {
   "cell_type": "code",
   "execution_count": 11,
   "metadata": {
    "colab": {},
    "colab_type": "code",
    "id": "hme3j_diHglu",
    "outputId": "581ccc02-7770-4a94-d003-257af4e81570"
   },
   "outputs": [
    {
     "name": "stdout",
     "output_type": "stream",
     "text": [
      "XGBRFClassifier(base_score=0.5, colsample_bylevel=1, colsample_bynode=0.8,\n",
      "        colsample_bytree=1, eval_metric='auc', gamma=0, learning_rate=1,\n",
      "        max_delta_step=0, max_depth=14, min_child_weight=1,\n",
      "        min_samples_leaf=32, min_samples_split=162, missing=None,\n",
      "        n_estimators=111, n_jobs=1, nthread=None,\n",
      "        objective='binary:logistic', random_state=123, reg_alpha=0,\n",
      "        reg_lambda=1, scale_pos_weight=1, seed=None, silent=None,\n",
      "        subsample=0.8, verbosity=1)\n",
      "{'max_depth': 14, 'min_samples_leaf': 32, 'min_samples_split': 162, 'n_estimators': 111}\n",
      "0.9752599186184753\n"
     ]
    }
   ],
   "source": [
    "print(Rsearch1.best_estimator_)\n",
    "print(Rsearch1.best_params_)\n",
    "print(Rsearch1.best_score_)"
   ]
  },
  {
   "cell_type": "code",
   "execution_count": 12,
   "metadata": {},
   "outputs": [],
   "source": [
    "l=Rsearch1.best_params_[\"min_samples_leaf\"]\n",
    "d=Rsearch1.best_params_['max_depth']\n",
    "s=Rsearch1.best_params_['min_samples_split']\n",
    "n=Rsearch1.best_params_['n_estimators']"
   ]
  },
  {
   "cell_type": "code",
   "execution_count": 13,
   "metadata": {
    "scrolled": true
   },
   "outputs": [
    {
     "name": "stdout",
     "output_type": "stream",
     "text": [
      "Fitting 10 folds for each of 10 candidates, totalling 100 fits\n"
     ]
    },
    {
     "name": "stderr",
     "output_type": "stream",
     "text": [
      "[Parallel(n_jobs=8)]: Using backend LokyBackend with 8 concurrent workers.\n",
      "[Parallel(n_jobs=8)]: Done   1 tasks      | elapsed:  3.6min\n",
      "[Parallel(n_jobs=8)]: Done   2 tasks      | elapsed:  3.6min\n",
      "[Parallel(n_jobs=8)]: Done   3 tasks      | elapsed:  3.7min\n",
      "[Parallel(n_jobs=8)]: Done   4 tasks      | elapsed:  3.7min\n",
      "[Parallel(n_jobs=8)]: Done   5 tasks      | elapsed:  3.7min\n",
      "[Parallel(n_jobs=8)]: Done   6 tasks      | elapsed:  3.7min\n",
      "[Parallel(n_jobs=8)]: Done   7 tasks      | elapsed:  3.7min\n",
      "[Parallel(n_jobs=8)]: Done   8 tasks      | elapsed:  3.8min\n",
      "[Parallel(n_jobs=8)]: Done   9 tasks      | elapsed:  6.1min\n",
      "[Parallel(n_jobs=8)]: Done  10 tasks      | elapsed:  6.2min\n",
      "[Parallel(n_jobs=8)]: Done  11 tasks      | elapsed:  6.3min\n",
      "[Parallel(n_jobs=8)]: Done  12 tasks      | elapsed:  6.3min\n",
      "[Parallel(n_jobs=8)]: Done  13 tasks      | elapsed:  6.4min\n",
      "[Parallel(n_jobs=8)]: Done  14 tasks      | elapsed:  6.4min\n",
      "[Parallel(n_jobs=8)]: Done  15 tasks      | elapsed:  7.7min\n",
      "[Parallel(n_jobs=8)]: Done  16 tasks      | elapsed:  7.8min\n",
      "[Parallel(n_jobs=8)]: Done  17 tasks      | elapsed:  9.0min\n",
      "[Parallel(n_jobs=8)]: Done  18 tasks      | elapsed:  9.2min\n",
      "[Parallel(n_jobs=8)]: Done  19 tasks      | elapsed:  9.2min\n",
      "[Parallel(n_jobs=8)]: Done  20 tasks      | elapsed:  9.2min\n",
      "[Parallel(n_jobs=8)]: Done  21 tasks      | elapsed:  9.2min\n",
      "[Parallel(n_jobs=8)]: Done  22 tasks      | elapsed:  9.3min\n",
      "[Parallel(n_jobs=8)]: Done  23 tasks      | elapsed: 10.2min\n",
      "[Parallel(n_jobs=8)]: Done  24 tasks      | elapsed: 10.4min\n",
      "[Parallel(n_jobs=8)]: Done  25 tasks      | elapsed: 11.6min\n",
      "[Parallel(n_jobs=8)]: Done  26 tasks      | elapsed: 11.8min\n",
      "[Parallel(n_jobs=8)]: Done  27 tasks      | elapsed: 11.8min\n",
      "[Parallel(n_jobs=8)]: Done  28 tasks      | elapsed: 11.8min\n",
      "[Parallel(n_jobs=8)]: Done  29 tasks      | elapsed: 11.9min\n",
      "[Parallel(n_jobs=8)]: Done  30 tasks      | elapsed: 12.0min\n",
      "[Parallel(n_jobs=8)]: Done  31 tasks      | elapsed: 14.8min\n",
      "[Parallel(n_jobs=8)]: Done  32 tasks      | elapsed: 15.1min\n",
      "[Parallel(n_jobs=8)]: Done  33 tasks      | elapsed: 16.5min\n",
      "[Parallel(n_jobs=8)]: Done  34 tasks      | elapsed: 16.7min\n",
      "[Parallel(n_jobs=8)]: Done  35 tasks      | elapsed: 16.7min\n",
      "[Parallel(n_jobs=8)]: Done  36 tasks      | elapsed: 16.8min\n",
      "[Parallel(n_jobs=8)]: Done  37 tasks      | elapsed: 16.8min\n",
      "[Parallel(n_jobs=8)]: Done  38 tasks      | elapsed: 16.9min\n",
      "[Parallel(n_jobs=8)]: Done  39 tasks      | elapsed: 19.6min\n",
      "[Parallel(n_jobs=8)]: Done  40 tasks      | elapsed: 19.9min\n",
      "[Parallel(n_jobs=8)]: Done  41 tasks      | elapsed: 19.9min\n",
      "[Parallel(n_jobs=8)]: Done  42 tasks      | elapsed: 20.0min\n",
      "[Parallel(n_jobs=8)]: Done  43 tasks      | elapsed: 20.0min\n",
      "[Parallel(n_jobs=8)]: Done  44 tasks      | elapsed: 20.0min\n",
      "[Parallel(n_jobs=8)]: Done  45 tasks      | elapsed: 20.2min\n",
      "[Parallel(n_jobs=8)]: Done  46 tasks      | elapsed: 20.3min\n",
      "[Parallel(n_jobs=8)]: Done  47 tasks      | elapsed: 22.8min\n",
      "[Parallel(n_jobs=8)]: Done  48 tasks      | elapsed: 22.9min\n",
      "[Parallel(n_jobs=8)]: Done  49 tasks      | elapsed: 23.0min\n",
      "[Parallel(n_jobs=8)]: Done  50 tasks      | elapsed: 23.1min\n",
      "[Parallel(n_jobs=8)]: Done  51 tasks      | elapsed: 23.1min\n",
      "[Parallel(n_jobs=8)]: Done  52 tasks      | elapsed: 23.3min\n",
      "[Parallel(n_jobs=8)]: Done  53 tasks      | elapsed: 23.3min\n",
      "[Parallel(n_jobs=8)]: Done  54 tasks      | elapsed: 23.4min\n",
      "[Parallel(n_jobs=8)]: Done  55 tasks      | elapsed: 25.9min\n",
      "[Parallel(n_jobs=8)]: Done  56 tasks      | elapsed: 26.1min\n",
      "[Parallel(n_jobs=8)]: Done  57 tasks      | elapsed: 26.2min\n",
      "[Parallel(n_jobs=8)]: Done  58 tasks      | elapsed: 26.2min\n",
      "[Parallel(n_jobs=8)]: Done  59 tasks      | elapsed: 26.2min\n",
      "[Parallel(n_jobs=8)]: Done  60 tasks      | elapsed: 26.3min\n",
      "[Parallel(n_jobs=8)]: Done  61 tasks      | elapsed: 29.2min\n",
      "[Parallel(n_jobs=8)]: Done  62 tasks      | elapsed: 29.2min\n",
      "[Parallel(n_jobs=8)]: Done  63 tasks      | elapsed: 31.5min\n",
      "[Parallel(n_jobs=8)]: Done  64 tasks      | elapsed: 31.8min\n",
      "[Parallel(n_jobs=8)]: Done  65 tasks      | elapsed: 31.9min\n",
      "[Parallel(n_jobs=8)]: Done  66 tasks      | elapsed: 31.9min\n",
      "[Parallel(n_jobs=8)]: Done  67 tasks      | elapsed: 31.9min\n",
      "[Parallel(n_jobs=8)]: Done  68 tasks      | elapsed: 32.1min\n",
      "[Parallel(n_jobs=8)]: Done  69 tasks      | elapsed: 34.5min\n",
      "[Parallel(n_jobs=8)]: Done  70 tasks      | elapsed: 34.5min\n",
      "[Parallel(n_jobs=8)]: Done  71 tasks      | elapsed: 35.7min\n",
      "[Parallel(n_jobs=8)]: Done  72 tasks      | elapsed: 36.0min\n",
      "[Parallel(n_jobs=8)]: Done  73 tasks      | elapsed: 36.0min\n",
      "[Parallel(n_jobs=8)]: Done  74 tasks      | elapsed: 36.2min\n",
      "[Parallel(n_jobs=8)]: Done  75 tasks      | elapsed: 36.2min\n",
      "[Parallel(n_jobs=8)]: Done  76 tasks      | elapsed: 36.4min\n",
      "[Parallel(n_jobs=8)]: Done  77 tasks      | elapsed: 38.4min\n",
      "[Parallel(n_jobs=8)]: Done  78 tasks      | elapsed: 38.5min\n",
      "[Parallel(n_jobs=8)]: Done  79 tasks      | elapsed: 38.6min\n",
      "[Parallel(n_jobs=8)]: Done  80 tasks      | elapsed: 38.7min\n",
      "[Parallel(n_jobs=8)]: Done  81 tasks      | elapsed: 38.9min\n",
      "[Parallel(n_jobs=8)]: Done  82 tasks      | elapsed: 39.0min\n",
      "[Parallel(n_jobs=8)]: Done  83 tasks      | elapsed: 40.1min\n",
      "[Parallel(n_jobs=8)]: Done  84 tasks      | elapsed: 40.4min\n",
      "[Parallel(n_jobs=8)]: Done  85 tasks      | elapsed: 40.8min\n",
      "[Parallel(n_jobs=8)]: Done  91 out of 100 | elapsed: 44.2min remaining:  4.4min\n",
      "[Parallel(n_jobs=8)]: Done  97 out of 100 | elapsed: 45.4min remaining:  1.4min\n",
      "[Parallel(n_jobs=8)]: Done 100 out of 100 | elapsed: 47.1min finished\n"
     ]
    },
    {
     "data": {
      "text/plain": [
       "({'subsample': 0.9, 'colsample_bytree': 0.7}, 0.9763584065708976)"
      ]
     },
     "execution_count": 13,
     "metadata": {},
     "output_type": "execute_result"
    }
   ],
   "source": [
    "\n",
    "params={\n",
    "\n",
    " \"colsample_bytree\"        : [ 0.3, 0.4, 0.5 , 0.7 ,0.9],\n",
    " 'subsample'               :[0.75,0.80,0.85,0.90],\n",
    " \n",
    "  }\n",
    "estimator2 =xgb.XGBRFClassifier(objective= 'binary:logistic',\n",
    "eval_metric= 'auc',scale_pos_weight = 1,random_state=123,min_samples_leaf=l,max_depth=d,min_samples_split=s,n_estimators=n)\n",
    "\n",
    "Rsearch2= RandomizedSearchCV(estimator2,param_distributions=params,scoring='f1',n_jobs=8,iid=False, cv=10,verbose=20,random_state=123)\n",
    "\n",
    "Rsearch2.fit(df_final_train,y_train)\n",
    "\n",
    "Rsearch2.best_params_, Rsearch2.best_score_\n"
   ]
  },
  {
   "cell_type": "code",
   "execution_count": 14,
   "metadata": {},
   "outputs": [
    {
     "name": "stdout",
     "output_type": "stream",
     "text": [
      "mean test scores [0.97627664 0.97301346 0.97312313 0.97584652 0.97473781 0.97323604\n",
      " 0.97604416 0.97610672 0.96676965 0.97635841]\n",
      "mean train scores [0.98412493 0.98180375 0.98146221 0.984066   0.98218644 0.98228958\n",
      " 0.98471213 0.98343495 0.97811598 0.98427952]\n"
     ]
    }
   ],
   "source": [
    "print('mean test scores',Rsearch2.cv_results_['mean_test_score'])\n",
    "print('mean train scores',Rsearch2.cv_results_['mean_train_score'])"
   ]
  },
  {
   "cell_type": "code",
   "execution_count": 15,
   "metadata": {},
   "outputs": [
    {
     "name": "stdout",
     "output_type": "stream",
     "text": [
      "XGBRFClassifier(base_score=0.5, colsample_bylevel=1, colsample_bynode=0.8,\n",
      "        colsample_bytree=0.7, eval_metric='auc', gamma=0, learning_rate=1,\n",
      "        max_delta_step=0, max_depth=14, min_child_weight=1,\n",
      "        min_samples_leaf=32, min_samples_split=162, missing=None,\n",
      "        n_estimators=111, n_jobs=1, nthread=None,\n",
      "        objective='binary:logistic', random_state=123, reg_alpha=0,\n",
      "        reg_lambda=1, scale_pos_weight=1, seed=None, silent=None,\n",
      "        subsample=0.9, verbosity=1)\n",
      "{'subsample': 0.9, 'colsample_bytree': 0.7}\n",
      "0.9763584065708976\n"
     ]
    }
   ],
   "source": [
    "print(Rsearch2.best_estimator_)\n",
    "print(Rsearch2.best_params_)\n",
    "print(Rsearch2.best_score_)"
   ]
  },
  {
   "cell_type": "code",
   "execution_count": 16,
   "metadata": {},
   "outputs": [],
   "source": [
    "col=Rsearch2.best_params_[\"colsample_bytree\"]\n",
    "sub=Rsearch2.best_params_['subsample']\n"
   ]
  },
  {
   "cell_type": "code",
   "execution_count": 17,
   "metadata": {
    "scrolled": true
   },
   "outputs": [
    {
     "name": "stdout",
     "output_type": "stream",
     "text": [
      "Fitting 10 folds for each of 10 candidates, totalling 100 fits\n"
     ]
    },
    {
     "name": "stderr",
     "output_type": "stream",
     "text": [
      "[Parallel(n_jobs=8)]: Using backend LokyBackend with 8 concurrent workers.\n",
      "[Parallel(n_jobs=8)]: Done   1 tasks      | elapsed:  4.2min\n",
      "[Parallel(n_jobs=8)]: Done   2 tasks      | elapsed:  4.3min\n",
      "[Parallel(n_jobs=8)]: Done   3 tasks      | elapsed:  4.3min\n",
      "[Parallel(n_jobs=8)]: Done   4 tasks      | elapsed:  4.3min\n",
      "[Parallel(n_jobs=8)]: Done   5 tasks      | elapsed:  4.3min\n",
      "[Parallel(n_jobs=8)]: Done   6 tasks      | elapsed:  4.3min\n",
      "[Parallel(n_jobs=8)]: Done   7 tasks      | elapsed:  4.3min\n",
      "[Parallel(n_jobs=8)]: Done   8 tasks      | elapsed:  4.4min\n",
      "[Parallel(n_jobs=8)]: Done   9 tasks      | elapsed:  8.4min\n",
      "[Parallel(n_jobs=8)]: Done  10 tasks      | elapsed:  8.5min\n",
      "[Parallel(n_jobs=8)]: Done  11 tasks      | elapsed:  8.5min\n",
      "[Parallel(n_jobs=8)]: Done  12 tasks      | elapsed:  8.5min\n",
      "[Parallel(n_jobs=8)]: Done  13 tasks      | elapsed:  8.5min\n",
      "[Parallel(n_jobs=8)]: Done  14 tasks      | elapsed:  8.5min\n",
      "[Parallel(n_jobs=8)]: Done  15 tasks      | elapsed:  8.5min\n",
      "[Parallel(n_jobs=8)]: Done  16 tasks      | elapsed:  8.5min\n",
      "[Parallel(n_jobs=8)]: Done  17 tasks      | elapsed: 11.9min\n",
      "[Parallel(n_jobs=8)]: Done  18 tasks      | elapsed: 11.9min\n",
      "[Parallel(n_jobs=8)]: Done  19 tasks      | elapsed: 11.9min\n",
      "[Parallel(n_jobs=8)]: Done  20 tasks      | elapsed: 12.0min\n",
      "[Parallel(n_jobs=8)]: Done  21 tasks      | elapsed: 12.0min\n",
      "[Parallel(n_jobs=8)]: Done  22 tasks      | elapsed: 12.0min\n",
      "[Parallel(n_jobs=8)]: Done  23 tasks      | elapsed: 12.0min\n",
      "[Parallel(n_jobs=8)]: Done  24 tasks      | elapsed: 12.0min\n",
      "[Parallel(n_jobs=8)]: Done  25 tasks      | elapsed: 16.0min\n",
      "[Parallel(n_jobs=8)]: Done  26 tasks      | elapsed: 16.0min\n",
      "[Parallel(n_jobs=8)]: Done  27 tasks      | elapsed: 16.0min\n",
      "[Parallel(n_jobs=8)]: Done  28 tasks      | elapsed: 16.0min\n",
      "[Parallel(n_jobs=8)]: Done  29 tasks      | elapsed: 16.0min\n",
      "[Parallel(n_jobs=8)]: Done  30 tasks      | elapsed: 16.0min\n",
      "[Parallel(n_jobs=8)]: Done  31 tasks      | elapsed: 16.0min\n",
      "[Parallel(n_jobs=8)]: Done  32 tasks      | elapsed: 16.1min\n",
      "[Parallel(n_jobs=8)]: Done  33 tasks      | elapsed: 19.6min\n",
      "[Parallel(n_jobs=8)]: Done  34 tasks      | elapsed: 19.7min\n",
      "[Parallel(n_jobs=8)]: Done  35 tasks      | elapsed: 19.7min\n",
      "[Parallel(n_jobs=8)]: Done  36 tasks      | elapsed: 19.7min\n",
      "[Parallel(n_jobs=8)]: Done  37 tasks      | elapsed: 19.7min\n",
      "[Parallel(n_jobs=8)]: Done  38 tasks      | elapsed: 19.7min\n",
      "[Parallel(n_jobs=8)]: Done  39 tasks      | elapsed: 19.7min\n",
      "[Parallel(n_jobs=8)]: Done  40 tasks      | elapsed: 19.8min\n",
      "[Parallel(n_jobs=8)]: Done  41 tasks      | elapsed: 23.3min\n",
      "[Parallel(n_jobs=8)]: Done  42 tasks      | elapsed: 23.3min\n",
      "[Parallel(n_jobs=8)]: Done  43 tasks      | elapsed: 23.3min\n",
      "[Parallel(n_jobs=8)]: Done  44 tasks      | elapsed: 23.3min\n",
      "[Parallel(n_jobs=8)]: Done  45 tasks      | elapsed: 23.3min\n",
      "[Parallel(n_jobs=8)]: Done  46 tasks      | elapsed: 23.4min\n",
      "[Parallel(n_jobs=8)]: Done  47 tasks      | elapsed: 23.4min\n",
      "[Parallel(n_jobs=8)]: Done  48 tasks      | elapsed: 23.5min\n",
      "[Parallel(n_jobs=8)]: Done  49 tasks      | elapsed: 26.9min\n",
      "[Parallel(n_jobs=8)]: Done  50 tasks      | elapsed: 27.0min\n",
      "[Parallel(n_jobs=8)]: Done  51 tasks      | elapsed: 27.0min\n",
      "[Parallel(n_jobs=8)]: Done  52 tasks      | elapsed: 27.0min\n",
      "[Parallel(n_jobs=8)]: Done  53 tasks      | elapsed: 27.0min\n",
      "[Parallel(n_jobs=8)]: Done  54 tasks      | elapsed: 27.0min\n",
      "[Parallel(n_jobs=8)]: Done  55 tasks      | elapsed: 27.1min\n",
      "[Parallel(n_jobs=8)]: Done  56 tasks      | elapsed: 27.1min\n",
      "[Parallel(n_jobs=8)]: Done  57 tasks      | elapsed: 30.5min\n",
      "[Parallel(n_jobs=8)]: Done  58 tasks      | elapsed: 30.5min\n",
      "[Parallel(n_jobs=8)]: Done  59 tasks      | elapsed: 30.5min\n",
      "[Parallel(n_jobs=8)]: Done  60 tasks      | elapsed: 30.6min\n",
      "[Parallel(n_jobs=8)]: Done  61 tasks      | elapsed: 30.6min\n",
      "[Parallel(n_jobs=8)]: Done  62 tasks      | elapsed: 30.7min\n",
      "[Parallel(n_jobs=8)]: Done  63 tasks      | elapsed: 30.7min\n",
      "[Parallel(n_jobs=8)]: Done  64 tasks      | elapsed: 30.8min\n",
      "[Parallel(n_jobs=8)]: Done  65 tasks      | elapsed: 34.3min\n",
      "[Parallel(n_jobs=8)]: Done  66 tasks      | elapsed: 34.3min\n",
      "[Parallel(n_jobs=8)]: Done  67 tasks      | elapsed: 34.3min\n",
      "[Parallel(n_jobs=8)]: Done  68 tasks      | elapsed: 34.3min\n",
      "[Parallel(n_jobs=8)]: Done  69 tasks      | elapsed: 34.4min\n",
      "[Parallel(n_jobs=8)]: Done  70 tasks      | elapsed: 34.4min\n",
      "[Parallel(n_jobs=8)]: Done  71 tasks      | elapsed: 34.4min\n",
      "[Parallel(n_jobs=8)]: Done  72 tasks      | elapsed: 34.5min\n",
      "[Parallel(n_jobs=8)]: Done  73 tasks      | elapsed: 38.5min\n",
      "[Parallel(n_jobs=8)]: Done  74 tasks      | elapsed: 38.5min\n",
      "[Parallel(n_jobs=8)]: Done  75 tasks      | elapsed: 38.5min\n",
      "[Parallel(n_jobs=8)]: Done  76 tasks      | elapsed: 38.6min\n",
      "[Parallel(n_jobs=8)]: Done  77 tasks      | elapsed: 38.6min\n",
      "[Parallel(n_jobs=8)]: Done  78 tasks      | elapsed: 38.6min\n",
      "[Parallel(n_jobs=8)]: Done  79 tasks      | elapsed: 38.6min\n",
      "[Parallel(n_jobs=8)]: Done  80 tasks      | elapsed: 38.8min\n",
      "[Parallel(n_jobs=8)]: Done  81 tasks      | elapsed: 42.2min\n",
      "[Parallel(n_jobs=8)]: Done  82 tasks      | elapsed: 42.3min\n",
      "[Parallel(n_jobs=8)]: Done  83 tasks      | elapsed: 42.4min\n",
      "[Parallel(n_jobs=8)]: Done  84 tasks      | elapsed: 42.4min\n",
      "[Parallel(n_jobs=8)]: Done  85 tasks      | elapsed: 42.4min\n",
      "[Parallel(n_jobs=8)]: Done  91 out of 100 | elapsed: 46.4min remaining:  4.6min\n",
      "[Parallel(n_jobs=8)]: Done  97 out of 100 | elapsed: 48.6min remaining:  1.5min\n",
      "[Parallel(n_jobs=8)]: Done 100 out of 100 | elapsed: 48.7min finished\n"
     ]
    },
    {
     "data": {
      "text/plain": [
       "({'learning_rate': 0.5, 'gamma': 0.2}, 0.9763889156047381)"
      ]
     },
     "execution_count": 17,
     "metadata": {},
     "output_type": "execute_result"
    }
   ],
   "source": [
    "\n",
    "params={\"learning_rate\"    : [0.05, 0.10, 0.15, 0.20, 0.25, 0.30,0.5 ] ,\n",
    " \"gamma\"                   : [ 0.01,0.0, 0.1, 0.2 , 0.3, 0.4 ],\n",
    " \n",
    "  }\n",
    "\n",
    "estimator3 = xgb.XGBRFClassifier(objective= 'binary:logistic',\n",
    "eval_metric= 'auc',scale_pos_weight = 1,random_state=123,min_samples_leaf=l,max_depth=d,min_samples_split=s,n_estimators=n,colsample_bytree=col,subsample=sub)\n",
    "Rsearch3= RandomizedSearchCV(estimator3,param_distributions=params,scoring='f1',n_jobs=8,iid=False, cv=10,random_state=123,verbose=20)\n",
    "Rsearch3.fit(df_final_train,y_train)\n",
    "Rsearch3.best_params_, Rsearch3.best_score_\n"
   ]
  },
  {
   "cell_type": "code",
   "execution_count": 18,
   "metadata": {},
   "outputs": [
    {
     "name": "stdout",
     "output_type": "stream",
     "text": [
      "mean test scores [0.97638892 0.97635841 0.97635841 0.97637909 0.97635841 0.97635841\n",
      " 0.97635841 0.97635841 0.97637909 0.97638892]\n",
      "mean train scores [0.98423793 0.98427952 0.98427952 0.98419282 0.98427952 0.98427725\n",
      " 0.98427725 0.98427725 0.98419282 0.98423793]\n"
     ]
    }
   ],
   "source": [
    "print('mean test scores',Rsearch3.cv_results_['mean_test_score'])\n",
    "print('mean train scores',Rsearch3.cv_results_['mean_train_score'])"
   ]
  },
  {
   "cell_type": "code",
   "execution_count": 19,
   "metadata": {},
   "outputs": [
    {
     "name": "stdout",
     "output_type": "stream",
     "text": [
      "XGBRFClassifier(base_score=0.5, colsample_bylevel=1, colsample_bynode=0.8,\n",
      "        colsample_bytree=0.7, eval_metric='auc', gamma=0.2,\n",
      "        learning_rate=0.5, max_delta_step=0, max_depth=14,\n",
      "        min_child_weight=1, min_samples_leaf=32, min_samples_split=162,\n",
      "        missing=None, n_estimators=111, n_jobs=1, nthread=None,\n",
      "        objective='binary:logistic', random_state=123, reg_alpha=0,\n",
      "        reg_lambda=1, scale_pos_weight=1, seed=None, silent=None,\n",
      "        subsample=0.9, verbosity=1)\n",
      "{'learning_rate': 0.5, 'gamma': 0.2}\n",
      "0.9763889156047381\n"
     ]
    }
   ],
   "source": [
    "print(Rsearch3.best_estimator_)\n",
    "print(Rsearch3.best_params_)\n",
    "print(Rsearch3.best_score_)"
   ]
  },
  {
   "cell_type": "code",
   "execution_count": 20,
   "metadata": {},
   "outputs": [],
   "source": [
    "rate = Rsearch3.best_params_[\"learning_rate\"]\n",
    "g = Rsearch3.best_params_['gamma']\n"
   ]
  },
  {
   "cell_type": "code",
   "execution_count": 21,
   "metadata": {
    "scrolled": true
   },
   "outputs": [
    {
     "name": "stdout",
     "output_type": "stream",
     "text": [
      "Fitting 10 folds for each of 10 candidates, totalling 100 fits\n"
     ]
    },
    {
     "name": "stderr",
     "output_type": "stream",
     "text": [
      "[Parallel(n_jobs=8)]: Using backend LokyBackend with 8 concurrent workers.\n",
      "[Parallel(n_jobs=8)]: Done   1 tasks      | elapsed:  3.4min\n",
      "[Parallel(n_jobs=8)]: Done   2 tasks      | elapsed:  3.4min\n",
      "[Parallel(n_jobs=8)]: Done   3 tasks      | elapsed:  3.4min\n",
      "[Parallel(n_jobs=8)]: Done   4 tasks      | elapsed:  3.4min\n",
      "[Parallel(n_jobs=8)]: Done   5 tasks      | elapsed:  3.4min\n",
      "[Parallel(n_jobs=8)]: Done   6 tasks      | elapsed:  3.4min\n",
      "[Parallel(n_jobs=8)]: Done   7 tasks      | elapsed:  3.4min\n",
      "[Parallel(n_jobs=8)]: Done   8 tasks      | elapsed:  3.4min\n",
      "[Parallel(n_jobs=8)]: Done   9 tasks      | elapsed:  7.4min\n",
      "[Parallel(n_jobs=8)]: Done  10 tasks      | elapsed:  7.4min\n",
      "[Parallel(n_jobs=8)]: Done  11 tasks      | elapsed:  7.6min\n",
      "[Parallel(n_jobs=8)]: Done  12 tasks      | elapsed:  7.6min\n",
      "[Parallel(n_jobs=8)]: Done  13 tasks      | elapsed:  7.6min\n",
      "[Parallel(n_jobs=8)]: Done  14 tasks      | elapsed:  7.7min\n",
      "[Parallel(n_jobs=8)]: Done  15 tasks      | elapsed:  7.7min\n",
      "[Parallel(n_jobs=8)]: Done  16 tasks      | elapsed:  7.7min\n",
      "[Parallel(n_jobs=8)]: Done  17 tasks      | elapsed: 11.3min\n",
      "[Parallel(n_jobs=8)]: Done  18 tasks      | elapsed: 11.3min\n",
      "[Parallel(n_jobs=8)]: Done  19 tasks      | elapsed: 11.4min\n",
      "[Parallel(n_jobs=8)]: Done  20 tasks      | elapsed: 11.4min\n",
      "[Parallel(n_jobs=8)]: Done  21 tasks      | elapsed: 11.5min\n",
      "[Parallel(n_jobs=8)]: Done  22 tasks      | elapsed: 11.5min\n",
      "[Parallel(n_jobs=8)]: Done  23 tasks      | elapsed: 11.6min\n",
      "[Parallel(n_jobs=8)]: Done  24 tasks      | elapsed: 11.6min\n",
      "[Parallel(n_jobs=8)]: Done  25 tasks      | elapsed: 15.1min\n",
      "[Parallel(n_jobs=8)]: Done  26 tasks      | elapsed: 15.1min\n",
      "[Parallel(n_jobs=8)]: Done  27 tasks      | elapsed: 15.2min\n",
      "[Parallel(n_jobs=8)]: Done  28 tasks      | elapsed: 15.3min\n",
      "[Parallel(n_jobs=8)]: Done  29 tasks      | elapsed: 15.3min\n",
      "[Parallel(n_jobs=8)]: Done  30 tasks      | elapsed: 15.3min\n",
      "[Parallel(n_jobs=8)]: Done  31 tasks      | elapsed: 15.3min\n",
      "[Parallel(n_jobs=8)]: Done  32 tasks      | elapsed: 15.4min\n",
      "[Parallel(n_jobs=8)]: Done  33 tasks      | elapsed: 19.1min\n",
      "[Parallel(n_jobs=8)]: Done  34 tasks      | elapsed: 19.1min\n",
      "[Parallel(n_jobs=8)]: Done  35 tasks      | elapsed: 19.3min\n",
      "[Parallel(n_jobs=8)]: Done  36 tasks      | elapsed: 19.3min\n",
      "[Parallel(n_jobs=8)]: Done  37 tasks      | elapsed: 19.4min\n",
      "[Parallel(n_jobs=8)]: Done  38 tasks      | elapsed: 19.4min\n",
      "[Parallel(n_jobs=8)]: Done  39 tasks      | elapsed: 19.4min\n",
      "[Parallel(n_jobs=8)]: Done  40 tasks      | elapsed: 19.4min\n",
      "[Parallel(n_jobs=8)]: Done  41 tasks      | elapsed: 22.7min\n",
      "[Parallel(n_jobs=8)]: Done  42 tasks      | elapsed: 22.7min\n",
      "[Parallel(n_jobs=8)]: Done  43 tasks      | elapsed: 22.9min\n",
      "[Parallel(n_jobs=8)]: Done  44 tasks      | elapsed: 23.0min\n",
      "[Parallel(n_jobs=8)]: Done  45 tasks      | elapsed: 23.0min\n",
      "[Parallel(n_jobs=8)]: Done  46 tasks      | elapsed: 23.0min\n",
      "[Parallel(n_jobs=8)]: Done  47 tasks      | elapsed: 23.1min\n",
      "[Parallel(n_jobs=8)]: Done  48 tasks      | elapsed: 23.2min\n",
      "[Parallel(n_jobs=8)]: Done  49 tasks      | elapsed: 26.1min\n",
      "[Parallel(n_jobs=8)]: Done  50 tasks      | elapsed: 26.2min\n",
      "[Parallel(n_jobs=8)]: Done  51 tasks      | elapsed: 26.3min\n",
      "[Parallel(n_jobs=8)]: Done  52 tasks      | elapsed: 26.6min\n",
      "[Parallel(n_jobs=8)]: Done  53 tasks      | elapsed: 26.7min\n",
      "[Parallel(n_jobs=8)]: Done  54 tasks      | elapsed: 26.7min\n",
      "[Parallel(n_jobs=8)]: Done  55 tasks      | elapsed: 26.7min\n",
      "[Parallel(n_jobs=8)]: Done  56 tasks      | elapsed: 26.9min\n",
      "[Parallel(n_jobs=8)]: Done  57 tasks      | elapsed: 29.7min\n",
      "[Parallel(n_jobs=8)]: Done  58 tasks      | elapsed: 29.7min\n",
      "[Parallel(n_jobs=8)]: Done  59 tasks      | elapsed: 29.7min\n",
      "[Parallel(n_jobs=8)]: Done  60 tasks      | elapsed: 30.0min\n",
      "[Parallel(n_jobs=8)]: Done  61 tasks      | elapsed: 30.1min\n",
      "[Parallel(n_jobs=8)]: Done  62 tasks      | elapsed: 30.1min\n",
      "[Parallel(n_jobs=8)]: Done  63 tasks      | elapsed: 30.2min\n",
      "[Parallel(n_jobs=8)]: Done  64 tasks      | elapsed: 30.4min\n",
      "[Parallel(n_jobs=8)]: Done  65 tasks      | elapsed: 33.2min\n",
      "[Parallel(n_jobs=8)]: Done  66 tasks      | elapsed: 33.3min\n",
      "[Parallel(n_jobs=8)]: Done  67 tasks      | elapsed: 33.3min\n",
      "[Parallel(n_jobs=8)]: Done  68 tasks      | elapsed: 33.5min\n",
      "[Parallel(n_jobs=8)]: Done  69 tasks      | elapsed: 33.5min\n",
      "[Parallel(n_jobs=8)]: Done  70 tasks      | elapsed: 33.6min\n",
      "[Parallel(n_jobs=8)]: Done  71 tasks      | elapsed: 33.6min\n",
      "[Parallel(n_jobs=8)]: Done  72 tasks      | elapsed: 33.7min\n",
      "[Parallel(n_jobs=8)]: Done  73 tasks      | elapsed: 36.9min\n",
      "[Parallel(n_jobs=8)]: Done  74 tasks      | elapsed: 37.0min\n",
      "[Parallel(n_jobs=8)]: Done  75 tasks      | elapsed: 37.2min\n",
      "[Parallel(n_jobs=8)]: Done  76 tasks      | elapsed: 37.3min\n",
      "[Parallel(n_jobs=8)]: Done  77 tasks      | elapsed: 37.3min\n",
      "[Parallel(n_jobs=8)]: Done  78 tasks      | elapsed: 37.4min\n",
      "[Parallel(n_jobs=8)]: Done  79 tasks      | elapsed: 37.4min\n",
      "[Parallel(n_jobs=8)]: Done  80 tasks      | elapsed: 37.5min\n",
      "[Parallel(n_jobs=8)]: Done  81 tasks      | elapsed: 40.4min\n",
      "[Parallel(n_jobs=8)]: Done  82 tasks      | elapsed: 40.5min\n",
      "[Parallel(n_jobs=8)]: Done  83 tasks      | elapsed: 40.7min\n",
      "[Parallel(n_jobs=8)]: Done  84 tasks      | elapsed: 40.9min\n",
      "[Parallel(n_jobs=8)]: Done  85 tasks      | elapsed: 40.9min\n",
      "[Parallel(n_jobs=8)]: Done  91 out of 100 | elapsed: 44.5min remaining:  4.4min\n",
      "[Parallel(n_jobs=8)]: Done  97 out of 100 | elapsed: 46.4min remaining:  1.4min\n",
      "[Parallel(n_jobs=8)]: Done 100 out of 100 | elapsed: 46.6min finished\n"
     ]
    },
    {
     "data": {
      "text/plain": [
       "({'reg_lamda': 0.0001, 'reg_alpha': 0.001}, 0.9763992303345269)"
      ]
     },
     "execution_count": 21,
     "metadata": {},
     "output_type": "execute_result"
    }
   ],
   "source": [
    "\n",
    "params={\n",
    " 'reg_alpha'               :[0, 0.001, 0.005, 0.01, 0.05],\n",
    " 'reg_lamda'               :[0,0.0001, 0.001, 0.005, 0.01, 0.05],\n",
    "  }\n",
    "estimator4 = xgb.XGBRFClassifier(objective= 'binary:logistic',\n",
    "eval_metric= 'auc',scale_pos_weight = 1,random_state=123,min_samples_leaf=l,max_depth=d,min_samples_split=s,n_estimators=n,colsample_bytree=col,subsample=sub,learning_rate=rate,gamma=g)\n",
    "Rsearch4= RandomizedSearchCV(estimator4,param_distributions=params,scoring='f1',n_jobs=8,iid=False, cv=10,random_state=123,verbose=20)\n",
    "Rsearch4.fit(df_final_train,y_train)\n",
    "Rsearch4.best_params_, Rsearch4.best_score_\n"
   ]
  },
  {
   "cell_type": "code",
   "execution_count": 22,
   "metadata": {},
   "outputs": [
    {
     "name": "stdout",
     "output_type": "stream",
     "text": [
      "mean test scores [0.97639923 0.97634729 0.97638892 0.97634729 0.97639923 0.97634729\n",
      " 0.97635899 0.97631866 0.97639923 0.97631866]\n",
      "mean train scores [0.98423676 0.984126   0.98423793 0.984126   0.98423676 0.984126\n",
      " 0.98422454 0.98420881 0.98423676 0.98420881]\n"
     ]
    }
   ],
   "source": [
    "print('mean test scores',Rsearch4.cv_results_['mean_test_score'])\n",
    "print('mean train scores',Rsearch4.cv_results_['mean_train_score'])"
   ]
  },
  {
   "cell_type": "code",
   "execution_count": 23,
   "metadata": {},
   "outputs": [
    {
     "name": "stdout",
     "output_type": "stream",
     "text": [
      "XGBRFClassifier(base_score=0.5, colsample_bylevel=1, colsample_bynode=0.8,\n",
      "        colsample_bytree=0.7, eval_metric='auc', gamma=0.2,\n",
      "        learning_rate=0.5, max_delta_step=0, max_depth=14,\n",
      "        min_child_weight=1, min_samples_leaf=32, min_samples_split=162,\n",
      "        missing=None, n_estimators=111, n_jobs=1, nthread=None,\n",
      "        objective='binary:logistic', random_state=123, reg_alpha=0.001,\n",
      "        reg_lambda=1, reg_lamda=0.0001, scale_pos_weight=1, seed=None,\n",
      "        silent=None, subsample=0.9, verbosity=1)\n",
      "{'reg_lamda': 0.0001, 'reg_alpha': 0.001}\n",
      "0.9763992303345269\n"
     ]
    }
   ],
   "source": [
    "print(Rsearch4.best_estimator_)\n",
    "print(Rsearch4.best_params_)\n",
    "print(Rsearch4.best_score_)"
   ]
  },
  {
   "cell_type": "code",
   "execution_count": 24,
   "metadata": {},
   "outputs": [],
   "source": [
    "alpha = Rsearch4.best_params_[\"reg_alpha\"]\n",
    "lamda = Rsearch4.best_params_['reg_lamda']\n"
   ]
  },
  {
   "cell_type": "code",
   "execution_count": 42,
   "metadata": {},
   "outputs": [
    {
     "data": {
      "text/plain": [
       "XGBRFClassifier(base_score=0.5, colsample_bylevel=1, colsample_bynode=0.8,\n",
       "        colsample_bytree=0.7, eval_metric='auc', gamma=0.2,\n",
       "        learning_rate=0.5, max_delta_step=0, max_depth=14,\n",
       "        min_child_weight=1, min_samples_leaf=32, min_samples_split=162,\n",
       "        missing=None, n_estimators=111, n_jobs=1, nthread=None,\n",
       "        objective='binary:logistic', random_state=123, reg_alpha=0.001,\n",
       "        reg_lambda=1, reg_lamda=0.0001, scale_pos_weight=1, seed=None,\n",
       "        silent=None, subsample=0.9, verbosity=1)"
      ]
     },
     "execution_count": 42,
     "metadata": {},
     "output_type": "execute_result"
    }
   ],
   "source": [
    "final_clf = xgb.XGBRFClassifier(base_score=0.5, colsample_bylevel=1, colsample_bynode=0.8,\n",
    "        colsample_bytree=0.7, eval_metric='auc', gamma=0.2,\n",
    "        learning_rate=0.5, max_delta_step=0, max_depth=14,\n",
    "        min_child_weight=1, min_samples_leaf=32, min_samples_split=162,\n",
    "        missing=None, n_estimators=111, n_jobs=1, nthread=None,\n",
    "        objective='binary:logistic', random_state=123, reg_alpha=0.001,\n",
    "        reg_lambda=1, reg_lamda=0.0001, scale_pos_weight=1, seed=None,\n",
    "        silent=None, subsample=0.9, verbosity=1)\n",
    "\n",
    "final_clf.fit(df_final_train,y_train)\n",
    "\n"
   ]
  },
  {
   "cell_type": "code",
   "execution_count": 44,
   "metadata": {},
   "outputs": [
    {
     "name": "stdout",
     "output_type": "stream",
     "text": [
      "The train f1 score is: 0.9837379545065502\n",
      "The test f1 score is: 0.9324856318814341\n"
     ]
    }
   ],
   "source": [
    "predict_y_test_final = final_clf.predict(df_final_test)\n",
    "predict_y_train_final = final_clf.predict(df_final_train)\n",
    "\n",
    "print(\"The train f1 score is:\",f1_score(y_train,predict_y_train_final))\n",
    "print(\"The test f1 score is:\",f1_score(y_test,predict_y_test_final))"
   ]
  },
  {
   "cell_type": "code",
   "execution_count": 46,
   "metadata": {
    "colab": {},
    "colab_type": "code",
    "id": "5XfUkZYQHgl7"
   },
   "outputs": [],
   "source": [
    "from sklearn.metrics import confusion_matrix\n",
    "def plot_confusion_matrix(test_y, predict_y):\n",
    "    C = confusion_matrix(test_y, predict_y)\n",
    "    \n",
    "    A =(((C.T)/(C.sum(axis=1))).T)\n",
    "    \n",
    "    B =(C/C.sum(axis=0))\n",
    "    plt.figure(figsize=(20,4))\n",
    "    \n",
    "    labels = [0,1]\n",
    "    # representing A in heatmap format\n",
    "    cmap=sns.light_palette(\"blue\")\n",
    "    plt.subplot(1, 3, 1)\n",
    "    sns.heatmap(C, annot=True, cmap=cmap, fmt=\".3f\", xticklabels=labels, yticklabels=labels)\n",
    "    plt.xlabel('Predicted Class')\n",
    "    plt.ylabel('Original Class')\n",
    "    plt.title(\"Confusion matrix\")\n",
    "    \n",
    "    plt.subplot(1, 3, 2)\n",
    "    sns.heatmap(B, annot=True, cmap=cmap, fmt=\".3f\", xticklabels=labels, yticklabels=labels)\n",
    "    plt.xlabel('Predicted Class')\n",
    "    plt.ylabel('Original Class')\n",
    "    plt.title(\"Precision matrix\")\n",
    "    \n",
    "    plt.subplot(1, 3, 3)\n",
    "    # representing B in heatmap format\n",
    "    sns.heatmap(A, annot=True, cmap=cmap, fmt=\".3f\", xticklabels=labels, yticklabels=labels)\n",
    "    plt.xlabel('Predicted Class')\n",
    "    plt.ylabel('Original Class')\n",
    "    plt.title(\"Recall matrix\")\n",
    "    \n",
    "    plt.show()"
   ]
  },
  {
   "cell_type": "code",
   "execution_count": 48,
   "metadata": {
    "colab": {},
    "colab_type": "code",
    "id": "s6t11dhTHgl-",
    "outputId": "189de3be-1c99-4653-f56f-12b18b0f4db7"
   },
   "outputs": [
    {
     "name": "stdout",
     "output_type": "stream",
     "text": [
      "Train confusion_matrix\n"
     ]
    },
    {
     "data": {
      "image/png": "[encoded data removed]",
      "text/plain": [
       "<Figure size 1440x288 with 6 Axes>"
      ]
     },
     "metadata": {
      "needs_background": "light"
     },
     "output_type": "display_data"
    },
    {
     "name": "stdout",
     "output_type": "stream",
     "text": [
      "Test confusion_matrix\n"
     ]
    },
    {
     "data": {
      "image/png": "[encoded data removed]",
      "text/plain": [
       "<Figure size 1440x288 with 6 Axes>"
      ]
     },
     "metadata": {
      "needs_background": "light"
     },
     "output_type": "display_data"
    }
   ],
   "source": [
    "print('Train confusion_matrix')\n",
    "plot_confusion_matrix(y_train,predict_y_train_final)\n",
    "print('Test confusion_matrix')\n",
    "plot_confusion_matrix(y_test,predict_y_test_final)"
   ]
  },
  {
   "cell_type": "code",
   "execution_count": 51,
   "metadata": {
    "colab": {},
    "colab_type": "code",
    "id": "61TF-VLeHgmD",
    "outputId": "795f1b39-61c7-470f-e2d0-1fe6dc7ac5fd"
   },
   "outputs": [
    {
     "data": {
      "image/png": "[encoded data removed]",
      "text/plain": [
       "<Figure size 432x288 with 1 Axes>"
      ]
     },
     "metadata": {
      "needs_background": "light"
     },
     "output_type": "display_data"
    }
   ],
   "source": [
    "from sklearn.metrics import roc_curve, auc\n",
    "\n",
    "fpr,tpr,ths = roc_curve(y_test,predict_y_test_final)\n",
    "auc_sc = auc(fpr, tpr)\n",
    "plt.plot(fpr, tpr, color='navy',label='ROC curve (area = %0.2f)' % auc_sc)\n",
    "plt.xlabel('False Positive Rate')\n",
    "plt.ylabel('True Positive Rate')\n",
    "plt.title('Receiver operating characteristic with test data')\n",
    "plt.legend()\n",
    "plt.show()"
   ]
  },
  {
   "cell_type": "code",
   "execution_count": 52,
   "metadata": {
    "colab": {},
    "colab_type": "code",
    "id": "HEZ7uvN6HgmK",
    "outputId": "6f762256-54fc-4e2f-865b-22342033eb2c",
    "scrolled": false
   },
   "outputs": [
    {
     "data": {
      "image/png": "[encoded data removed]",
      "text/plain": [
       "<Figure size 720x864 with 1 Axes>"
      ]
     },
     "metadata": {
      "needs_background": "light"
     },
     "output_type": "display_data"
    }
   ],
   "source": [
    "features = df_final_train.columns\n",
    "importances = final_clf.feature_importances_\n",
    "indices = (np.argsort(importances))[-25:]\n",
    "plt.figure(figsize=(10,12))\n",
    "plt.title('Feature Importances')\n",
    "plt.barh(range(len(indices)), importances[indices], color='r', align='center')\n",
    "plt.yticks(range(len(indices)), [features[i] for i in indices])\n",
    "plt.xlabel('Relative Importance')\n",
    "plt.show()"
   ]
  },
  {
   "cell_type": "markdown",
   "metadata": {},
   "source": [
    "# Observations\n",
    "\n",
    "* AUC on Train : 1.0\n",
    "* AUC on Test : 0.94\n",
    "\n",
    "* f1 Score on Train : 0.9837\n",
    "* f1 Score on Test : 0.9324"
   ]
  }
 ],
 "metadata": {
  "colab": {
   "collapsed_sections": [],
   "name": "FB_Models.ipynb",
   "provenance": [],
   "version": "0.3.2"
  },
  "kernelspec": {
   "display_name": "Python 3",
   "language": "python",
   "name": "python3"
  },
  "language_info": {
   "codemirror_mode": {
    "name": "ipython",
    "version": 3
   },
   "file_extension": ".py",
   "mimetype": "text/x-python",
   "name": "python",
   "nbconvert_exporter": "python",
   "pygments_lexer": "ipython3",
   "version": "3.7.3"
  }
 },
 "nbformat": 4,
 "nbformat_minor": 1
}
